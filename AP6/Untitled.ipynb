{
 "cells": [
  {
   "cell_type": "code",
   "execution_count": 1,
   "id": "a426d012-e426-4621-9fec-f37ec2bb7127",
   "metadata": {},
   "outputs": [
    {
     "name": "stdout",
     "output_type": "stream",
     "text": [
      "[*********************100%***********************]  2 of 2 completed\n",
      "Rainbow Option Price: 85.94\n",
      "95% Confidence Interval: (85.64, 86.25)\n"
     ]
    }
   ],
   "source": [
    "import yfinance as yf\n",
    "import numpy as np\n",
    "\n",
    "# Parameters\n",
    "num_simulations = 10000  # Number of Monte Carlo simulations\n",
    "strike_price = 100      # Strike price of the rainbow call option\n",
    "asset_symbols = ['AAPL', 'GOOGL']  # Yahoo Finance symbols for the two underlying assets\n",
    "correlation = 0.5        # Correlation between the assets\n",
    "maturity = 1             # Time to maturity (in years)\n",
    "risk_free_rate = 0.05    # Risk-free interest rate\n",
    "\n",
    "# Download historical price data from Yahoo Finance\n",
    "data = yf.download(asset_symbols, start=\"2022-01-01\", end=\"2023-01-01\")\n",
    "\n",
    "# Extract adjusted closing prices\n",
    "prices = data['Adj Close'].values\n",
    "\n",
    "# Calculate daily returns\n",
    "returns = np.log(prices / prices[0])\n",
    "\n",
    "# Calculate volatilities\n",
    "volatilities = np.std(returns, axis=0)\n",
    "\n",
    "# Simulate asset prices\n",
    "np.random.seed(0)\n",
    "simulated_prices = np.zeros((num_simulations, 2))\n",
    "simulated_prices[:, 0] = prices[0, 0] * np.exp((risk_free_rate - 0.5 * volatilities[0]**2) * maturity +\n",
    "                                             volatilities[0] * np.sqrt(maturity) * np.random.randn(num_simulations))\n",
    "simulated_prices[:, 1] = prices[0, 1] * np.exp((risk_free_rate - 0.5 * volatilities[1]**2) * maturity +\n",
    "                                             volatilities[1] * np.sqrt(maturity) * (correlation * np.random.randn(num_simulations) +\n",
    "                                             np.sqrt(1 - correlation**2) * np.random.randn(num_simulations)))\n",
    "\n",
    "# Calculate the rainbow option payoff for each simulation\n",
    "payoffs = np.maximum(np.max(simulated_prices, axis=1) - strike_price, 0)\n",
    "\n",
    "# Calculate the option price\n",
    "option_price = np.exp(-risk_free_rate * maturity) * np.mean(payoffs)\n",
    "\n",
    "# Calculate the standard error\n",
    "standard_error = np.std(payoffs) / np.sqrt(num_simulations)\n",
    "\n",
    "# Calculate a 95% confidence interval\n",
    "confidence_interval = (option_price - 1.96 * standard_error, option_price + 1.96 * standard_error)\n",
    "\n",
    "# Display the results\n",
    "print(f\"Rainbow Option Price: {option_price:.2f}\")\n",
    "print(f\"95% Confidence Interval: ({confidence_interval[0]:.2f}, {confidence_interval[1]:.2f})\")\n"
   ]
  },
  {
   "cell_type": "code",
   "execution_count": 5,
   "id": "aca9190a-358b-43f0-a1f8-ea27cd4acf59",
   "metadata": {},
   "outputs": [
    {
     "name": "stdout",
     "output_type": "stream",
     "text": [
      "[*********************100%***********************]  3 of 3 completed\n",
      "Rainbow Option Price: nan\n"
     ]
    }
   ],
   "source": [
    "import yfinance as yf\n",
    "import numpy as np\n",
    "import matplotlib.pyplot as plt\n",
    "from scipy.stats import norm\n",
    "\n",
    "# Parameters\n",
    "num_simulations = 10000  # Number of Monte Carlo simulations\n",
    "strike_price = 4000     # Strike price of the rainbow call option\n",
    "asset_symbols = ['^GSPC', '^FTSE', '^N225']  # Yahoo Finance symbols for the three underlying assets\n",
    "maturity = 1             # Time to maturity (in years)\n",
    "risk_free_rate = 0.05    # Risk-free interest rate\n",
    "\n",
    "# Download historical price data from Yahoo Finance\n",
    "data = yf.download(asset_symbols, start=\"2022-01-01\", end=\"2023-01-01\")\n",
    "\n",
    "# Extract adjusted closing prices\n",
    "prices = data['Adj Close'].values\n",
    "\n",
    "# Calculate daily returns\n",
    "returns = np.log(prices / prices[0])\n",
    "\n",
    "# Calculate volatilities\n",
    "volatilities = np.std(returns, axis=0)\n",
    "\n",
    "# Simulate asset prices\n",
    "np.random.seed(0)\n",
    "simulated_prices = np.zeros((num_simulations, 3))\n",
    "for i in range(3):\n",
    "    simulated_prices[:, i] = prices[0, i] * np.exp((risk_free_rate - 0.5 * volatilities[i]**2) * maturity +\n",
    "                                                  volatilities[i] * np.sqrt(maturity) * np.random.randn(num_simulations))\n",
    "\n",
    "# Calculate the maximum increase among the three assets\n",
    "max_increase = np.max(simulated_prices, axis=1)\n",
    "\n",
    "# Calculate the rainbow option payoff for each simulation\n",
    "payoffs = np.maximum(max_increase - strike_price, 0)\n",
    "\n",
    "# Calculate the option price\n",
    "option_price = np.exp(-risk_free_rate * maturity) * np.mean(payoffs)\n",
    "\n",
    "# Create a histogram of the simulated payoffs\n",
    "\n",
    "# Fit a normal distribution to the data\n",
    "\n",
    "\n",
    "# Display the results\n",
    "print(f\"Rainbow Option Price: {option_price:.2f}\")\n"
   ]
  }
 ],
 "metadata": {
  "kernelspec": {
   "display_name": "Python 3 (ipykernel)",
   "language": "python",
   "name": "python3"
  },
  "language_info": {
   "codemirror_mode": {
    "name": "ipython",
    "version": 3
   },
   "file_extension": ".py",
   "mimetype": "text/x-python",
   "name": "python",
   "nbconvert_exporter": "python",
   "pygments_lexer": "ipython3",
   "version": "3.9.13"
  }
 },
 "nbformat": 4,
 "nbformat_minor": 5
}
